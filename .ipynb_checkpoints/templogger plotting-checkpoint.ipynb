{
 "metadata": {
  "name": "",
  "signature": "sha256:a1a0396811ec5e26c60f653e53f6a3ae0f5b31bb00c08b7a451dc4ec23cd07c0"
 },
 "nbformat": 3,
 "nbformat_minor": 0,
 "worksheets": [
  {
   "cells": [
    {
     "cell_type": "heading",
     "level": 1,
     "metadata": {},
     "source": [
      "To get data remotely open two terminals:\n",
      "- First terminal:\n",
      "    $ ssh compaq\n",
      "    $ cd scripts/python/xbee\n",
      "    $ sqlite3 xbee.db\n",
      "    "
     ]
    },
    {
     "cell_type": "code",
     "collapsed": false,
     "input": [
      "import numpy as np #importing explicitly rather than calling %pylab\n",
      "import matplotlib.pyplot as plt\n",
      "\n",
      "# not sure if this does anything since i'm not selecting inline\n",
      "%matplotlib "
     ],
     "language": "python",
     "metadata": {},
     "outputs": [
      {
       "output_type": "stream",
       "stream": "stdout",
       "text": [
        "Using matplotlib backend: Qt4Agg\n"
       ]
      }
     ],
     "prompt_number": 20
    },
    {
     "cell_type": "code",
     "collapsed": false,
     "input": [
      "#Do either this or above\n",
      "%pylab"
     ],
     "language": "python",
     "metadata": {},
     "outputs": []
    },
    {
     "cell_type": "code",
     "collapsed": false,
     "input": [
      "%cd ~/python\n",
      "format = '%Y-%m-%d %H:%M:%S'\n",
      "dt = np.dtype([('id',np.str_,8), ('val',np.float),('time',np.str_,19)])\n",
      "data = np.genfromtxt('citrus2.lst', delimiter = '|', dtype=dt, converters={2:strpdate2num(format)})\n",
      "t1 = data[np.where(data['id']=='thermo1')]\n",
      "t1_times = t1['time']\n",
      "t1_vals = t1['val']\n",
      "t2 = data[np.where(data['id']=='thermo2')]\n",
      "t2_vals = t2['val']\n",
      "t2_times = t2['time']\n",
      "t3 = data[np.where(data['id']=='thermo3')]\n",
      "t3_vals = t3['val']\n",
      "t3_times = t3['time']\n",
      "lux = data[np.where(data['id']=='lux')]\n",
      "lux_times = lux['time']\n",
      "lux_vals = lux['val']\n",
      "# add code here to find max and min temps then plug into second parameter in interp\n",
      "li = interp(lux_vals,[0,1023],[0,20]) #interpolated lux vals\n"
     ],
     "language": "python",
     "metadata": {},
     "outputs": [
      {
       "output_type": "stream",
       "stream": "stdout",
       "text": [
        "Using matplotlib backend: Qt4Agg\n",
        "Populating the interactive namespace from numpy and matplotlib\n",
        "/home/arlin/python"
       ]
      },
      {
       "output_type": "stream",
       "stream": "stdout",
       "text": [
        "\n"
       ]
      }
     ],
     "prompt_number": 27
    },
    {
     "cell_type": "code",
     "collapsed": false,
     "input": [
      "plt.plot(t1_times,t1_vals, '.')\n",
      "plt.plot(t2_times,t2_vals, '.')\n",
      "plt.plot(t3_times,t3_vals, '.')\n",
      "plt.plot(lux_times,li, '.')\n",
      "\n",
      "plt.annotate('local max', xy=(2, 1), xytext=(3, 1.5), arrowprops=dict(facecolor='black', shrink=1),) #did nothing"
     ],
     "language": "python",
     "metadata": {},
     "outputs": [
      {
       "metadata": {},
       "output_type": "pyout",
       "prompt_number": 28,
       "text": [
        "<matplotlib.text.Annotation at 0x7fbababa9210>"
       ]
      }
     ],
     "prompt_number": 28
    },
    {
     "cell_type": "code",
     "collapsed": false,
     "input": [
      "ax = gca()\n",
      "ax.xaxis.get_major_formatter()\n",
      "ax.xaxis.get_major_ticks()\n",
      "ax.xaxis.get_major_locator()\n",
      "ax.xaxis.set_major_formatter(DateFormatter('%H'))\n",
      "ax.set_title('Temperatures and light level')\n",
      "ax.set_xlabel('hours from start')\n",
      "ax.set_ylabel('Degrees C')\n",
      "ax.set_title('Temperatures and light level')\n",
      "ax.text(0,0, \"something\")\n",
      "\n",
      "draw()\n"
     ],
     "language": "python",
     "metadata": {},
     "outputs": [],
     "prompt_number": 29
    },
    {
     "cell_type": "code",
     "collapsed": false,
     "input": [
      "txt = plt.text(4, 0.5, \"Hello\")\n",
      "txt.set_size(100)\n",
      "txt.set_color('blue')\n",
      "fig.canvas.draw()\n",
      "#draw()"
     ],
     "language": "python",
     "metadata": {},
     "outputs": [],
     "prompt_number": 26
    },
    {
     "cell_type": "code",
     "collapsed": false,
     "input": [
      "lines = ax.plot(t1_times, t1_vals, '.', t2_times,t2_vals, '.',t3_times,t3_vals, '.',lux_times,li, '.')\n",
      "print lines"
     ],
     "language": "python",
     "metadata": {},
     "outputs": []
    },
    {
     "cell_type": "code",
     "collapsed": false,
     "input": [
      "lines[0].set_color('black') #this works\n",
      "draw()"
     ],
     "language": "python",
     "metadata": {},
     "outputs": [],
     "prompt_number": 13
    },
    {
     "cell_type": "code",
     "collapsed": false,
     "input": [],
     "language": "python",
     "metadata": {},
     "outputs": []
    },
    {
     "cell_type": "code",
     "collapsed": false,
     "input": [
      "ax.text(0,0, \"some text\")\n",
      "plt.show()"
     ],
     "language": "python",
     "metadata": {},
     "outputs": [],
     "prompt_number": 23
    },
    {
     "cell_type": "code",
     "collapsed": false,
     "input": [
      "#ax.set_label('a label')\n",
      "#ax.legend()\n",
      "\n",
      "#text(0,0, \"some text\")\n",
      "#plt.show()\n",
      "lines = ax.get_lines()\n",
      "line[0[]]"
     ],
     "language": "python",
     "metadata": {},
     "outputs": [
      {
       "ename": "SyntaxError",
       "evalue": "invalid syntax (<ipython-input-27-6d3d2c9b6b7b>, line 7)",
       "output_type": "pyerr",
       "traceback": [
        "\u001b[1;36m  File \u001b[1;32m\"<ipython-input-27-6d3d2c9b6b7b>\"\u001b[1;36m, line \u001b[1;32m7\u001b[0m\n\u001b[1;33m    line.\u001b[0m\n\u001b[1;37m         ^\u001b[0m\n\u001b[1;31mSyntaxError\u001b[0m\u001b[1;31m:\u001b[0m invalid syntax\n"
       ]
      }
     ],
     "prompt_number": 27
    },
    {
     "cell_type": "code",
     "collapsed": false,
     "input": [],
     "language": "python",
     "metadata": {},
     "outputs": []
    },
    {
     "cell_type": "code",
     "collapsed": false,
     "input": [
      "plt"
     ],
     "language": "python",
     "metadata": {},
     "outputs": [
      {
       "metadata": {},
       "output_type": "pyout",
       "prompt_number": 29,
       "text": [
        "<module 'matplotlib.pyplot' from '/home/arlin/anaconda/lib/python2.7/site-packages/matplotlib/pyplot.pyc'>"
       ]
      }
     ],
     "prompt_number": 29
    }
   ],
   "metadata": {}
  }
 ]
}