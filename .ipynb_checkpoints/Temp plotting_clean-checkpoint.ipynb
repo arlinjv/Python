{
 "metadata": {
  "name": "",
  "signature": "sha256:b1443720b5fdfdff109c9438dbbf251a916e00079de72851abc577e4bb3ffa15"
 },
 "nbformat": 3,
 "nbformat_minor": 0,
 "worksheets": [
  {
   "cells": [
    {
     "cell_type": "heading",
     "level": 1,
     "metadata": {},
     "source": [
      "To get data remotely open two terminals:\n",
      "- First terminal:\n",
      "    $ ssh compaq\n",
      "    $ cd scripts/python/xbee\n",
      "    $ sqlite3 xbee.db\n",
      "    sqlite> select count(*) from devices_log;\n",
      "    388\n",
      "    sqlite> .headers off\n",
      "    sqlite> .mode list\n",
      "    sqlite> .output citrus3.lst\n",
      "    sqlite> select device_id, last_val, time_stamp from devices_log;\n",
      "- Next terminal:\n",
      "     $ sftp compaq\n",
      "    sftp> cd scripts/python/xbee\n",
      "    sftp> lcd/python\n",
      "    sftp> get citrus3.lst"
     ]
    },
    {
     "cell_type": "code",
     "collapsed": false,
     "input": [
      "#importing explicitly rather than calling %pylab\n",
      "import numpy as np \n",
      "import matplotlib.pyplot as plt\n",
      "from matplotlib.dates import strpdate2num, DateFormatter\n",
      "import datetime\n",
      "\n",
      "\n",
      "# not sure if this does anything since i'm not selecting inline\n",
      "%matplotlib "
     ],
     "language": "python",
     "metadata": {},
     "outputs": [
      {
       "output_type": "stream",
       "stream": "stdout",
       "text": [
        "Using matplotlib backend: Qt4Agg\n"
       ]
      }
     ],
     "prompt_number": 7
    },
    {
     "cell_type": "code",
     "collapsed": false,
     "input": [
      "#Do either this or above\n",
      "%pylab"
     ],
     "language": "python",
     "metadata": {},
     "outputs": [
      {
       "output_type": "stream",
       "stream": "stdout",
       "text": [
        "Using matplotlib backend: Qt4Agg\n",
        "Populating the interactive namespace from numpy and matplotlib\n"
       ]
      }
     ],
     "prompt_number": 1
    },
    {
     "cell_type": "code",
     "collapsed": false,
     "input": [
      "%cd ~/python\n",
      "format = '%Y-%m-%d %H:%M:%S'\n",
      "dt = np.dtype([('id',np.str_,8), ('val',np.float),('time',np.str_,19)])\n",
      "data = np.genfromtxt('citrus3.lst', delimiter = '|', dtype=dt, converters={2:strpdate2num(format)})\n",
      "t1 = data[np.where(data['id']=='thermo1')]\n",
      "t1_times = t1['time']\n",
      "t1_vals = t1['val']\n",
      "t2 = data[np.where(data['id']=='thermo2')]\n",
      "t2_vals = t2['val']\n",
      "t2_times = t2['time']\n",
      "t3 = data[np.where(data['id']=='thermo3')]\n",
      "t3_vals = t3['val']\n",
      "t3_times = t3['time']\n",
      "lux = data[np.where(data['id']=='lux')]\n",
      "lux_times = lux['time']\n",
      "lux_vals = lux['val']\n",
      "# add code here to find max and min temps then plug into second parameter in interp\n",
      "li = np.interp(lux_vals,[0,1023],[0,20]) #interpolated lux vals. np. not needed with pylab\n"
     ],
     "language": "python",
     "metadata": {},
     "outputs": [
      {
       "output_type": "stream",
       "stream": "stdout",
       "text": [
        "/home/arlin/python\n"
       ]
      }
     ],
     "prompt_number": 2
    },
    {
     "cell_type": "code",
     "collapsed": false,
     "input": [
      "plt.plot(t1_times,t1_vals, '.')\n",
      "plt.plot(t2_times,t2_vals, '.')\n",
      "plt.plot(t3_times,t3_vals, '.')\n",
      "plt.plot(lux_times,li, '.')"
     ],
     "language": "python",
     "metadata": {},
     "outputs": [
      {
       "metadata": {},
       "output_type": "pyout",
       "prompt_number": 3,
       "text": [
        "[<matplotlib.lines.Line2D at 0x7fd3afa65b50>]"
       ]
      }
     ],
     "prompt_number": 3
    },
    {
     "cell_type": "code",
     "collapsed": false,
     "input": [
      "ax = plt.gca() #plt. not needed with pylab\n",
      "ax.xaxis.get_major_formatter()\n",
      "ax.xaxis.get_major_ticks()\n",
      "ax.xaxis.get_major_locator()\n",
      "ax.xaxis.set_major_formatter(DateFormatter('%H'))\n",
      "ax.set_title('Temperatures and light level')\n",
      "ax.set_xlabel('hours from start')\n",
      "ax.set_ylabel('Degrees C')\n",
      "ax.set_title('Temperatures and light level')\n",
      "\n",
      "plt.draw() #plt. not needed with pylab"
     ],
     "language": "python",
     "metadata": {},
     "outputs": [],
     "prompt_number": 4
    },
    {
     "cell_type": "code",
     "collapsed": false,
     "input": [
      "plt.grid()"
     ],
     "language": "python",
     "metadata": {},
     "outputs": [],
     "prompt_number": 5
    }
   ],
   "metadata": {}
  }
 ]
}