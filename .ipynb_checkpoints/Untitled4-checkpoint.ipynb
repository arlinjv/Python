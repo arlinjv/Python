{
 "metadata": {
  "name": "",
  "signature": "sha256:25e7e5fafeb68b58bae442b8d173ce1565dc1416452494c9a1305f9a08c1b5f8"
 },
 "nbformat": 3,
 "nbformat_minor": 0,
 "worksheets": [
  {
   "cells": [
    {
     "cell_type": "code",
     "collapsed": false,
     "input": [
      "import numpy as np \n",
      "import matplotlib.pyplot as plt"
     ],
     "language": "python",
     "metadata": {},
     "outputs": [],
     "prompt_number": 2
    },
    {
     "cell_type": "code",
     "collapsed": false,
     "input": [
      "ax = plt.subplot(111)\n",
      "\n",
      "t = np.arange(0.0, 5.0, 0.01)\n",
      "s = np.cos(2*np.pi*t)\n",
      "line, = plt.plot(t, s, lw=2)\n",
      "\n",
      "plt.annotate('local max', xy=(2, 1), xytext=(3, 1.5),\n",
      "            arrowprops=dict(facecolor='black', shrink=0.05),\n",
      "            )\n",
      "\n",
      "plt.ylim(-2,2)\n",
      "plt.show()"
     ],
     "language": "python",
     "metadata": {},
     "outputs": [],
     "prompt_number": 4
    },
    {
     "cell_type": "code",
     "collapsed": false,
     "input": [],
     "language": "python",
     "metadata": {},
     "outputs": []
    }
   ],
   "metadata": {}
  }
 ]
}