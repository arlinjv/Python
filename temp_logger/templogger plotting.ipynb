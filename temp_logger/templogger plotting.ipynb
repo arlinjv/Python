{
 "metadata": {
  "name": "",
  "signature": "sha256:599394ecd02eac940b7c5e251cbefe636432cb7520abebb076b7ff7b6fbe1cf9"
 },
 "nbformat": 3,
 "nbformat_minor": 0,
 "worksheets": [
  {
   "cells": [
    {
     "cell_type": "raw",
     "metadata": {},
     "source": [
      "To get data remotely open two terminals:\n",
      "- First terminal:\n",
      "    $ ssh compaq\n",
      "    $ cd scripts/python/xbee\n",
      "    $ sqlite3 xbee.db\n",
      "    sqlite> select count(*) from devices_log;\n",
      "    388\n",
      "    sqlite> .headers off\n",
      "    sqlite> .mode list\n",
      "    sqlite> .output citrus3.lst\n",
      "    sqlite> select device_id, last_val, time_stamp from devices_log;\n",
      "- Next terminal:\n",
      "     $ sftp compaq\n",
      "    sftp> cd scripts/python/xbee\n",
      "    sftp> lcd/python\n",
      "    sftp> get citrus3.lst"
     ]
    },
    {
     "cell_type": "code",
     "collapsed": false,
     "input": [
      "#importing explicitly rather than calling %pylab\n",
      "import numpy as np \n",
      "import matplotlib.pyplot as plt\n",
      "from matplotlib.dates import strpdate2num, DateFormatter\n",
      "import datetime\n",
      "\n",
      "print np\n",
      "print plt\n",
      "\n",
      "#%matplotlib inline"
     ],
     "language": "python",
     "metadata": {},
     "outputs": [
      {
       "output_type": "stream",
       "stream": "stdout",
       "text": [
        "<module 'numpy' from '/home/arlin/anaconda/lib/python2.7/site-packages/numpy/__init__.pyc'>\n",
        "<module 'matplotlib.pyplot' from '/home/arlin/anaconda/lib/python2.7/site-packages/matplotlib/pyplot.pyc'>\n"
       ]
      }
     ],
     "prompt_number": 1
    },
    {
     "cell_type": "code",
     "collapsed": false,
     "input": [
      "#Do either this or above\n",
      "#%pylab"
     ],
     "language": "python",
     "metadata": {},
     "outputs": [],
     "prompt_number": 1
    },
    {
     "cell_type": "code",
     "collapsed": false,
     "input": [
      "%cd ~/python\n",
      "format = '%Y-%m-%d %H:%M:%S'\n",
      "dt = np.dtype([('id',np.str_,8), ('val',np.float),('time',np.str_,19)])\n",
      "data = np.genfromtxt('citrus3.lst', delimiter = '|', dtype=dt, converters={2:strpdate2num(format)})\n",
      "t1 = data[np.where(data['id']=='thermo1')]\n",
      "t1_times = t1['time']\n",
      "t1_vals = t1['val']\n",
      "t2 = data[np.where(data['id']=='thermo2')]\n",
      "t2_vals = t2['val']\n",
      "t2_times = t2['time']\n",
      "t3 = data[np.where(data['id']=='thermo3')]\n",
      "t3_vals = t3['val']\n",
      "t3_times = t3['time']\n",
      "lux = data[np.where(data['id']=='lux')]\n",
      "lux_times = lux['time']\n",
      "lux_vals = lux['val']\n",
      "# add code here to find max and min temps then plug into second parameter in interp\n",
      "li = np.interp(lux_vals,[0,1023],[0,20]) #interpolated lux vals\n",
      "print len(data), \" records\""
     ],
     "language": "python",
     "metadata": {},
     "outputs": [
      {
       "output_type": "stream",
       "stream": "stdout",
       "text": [
        "/home/arlin/python\n",
        "1639"
       ]
      },
      {
       "output_type": "stream",
       "stream": "stdout",
       "text": [
        "  records\n"
       ]
      }
     ],
     "prompt_number": 2
    },
    {
     "cell_type": "code",
     "collapsed": false,
     "input": [
      "'''plt.plot(t1_times,t1_vals, '.')\n",
      "plt.plot(t2_times,t2_vals, '.')\n",
      "plt.plot(t3_times,t3_vals, '.')\n",
      "plt.plot(lux_times,li, '.')\n",
      "\n",
      "plt.annotate('local max', xy=(2, 1), xytext=(3, 1.5), arrowprops=dict(facecolor='black', shrink=1),) #did nothing\n",
      "'''\n",
      "#superceded by lines = ax.plot(...)"
     ],
     "language": "python",
     "metadata": {},
     "outputs": [
      {
       "metadata": {},
       "output_type": "pyout",
       "prompt_number": 25,
       "text": [
        "<matplotlib.text.Annotation at 0x7fa6b6094750>"
       ]
      }
     ],
     "prompt_number": 25
    },
    {
     "cell_type": "code",
     "collapsed": false,
     "input": [
      "plt.show()"
     ],
     "language": "python",
     "metadata": {},
     "outputs": [],
     "prompt_number": 4
    },
    {
     "cell_type": "code",
     "collapsed": false,
     "input": [
      "plt.draw()"
     ],
     "language": "python",
     "metadata": {},
     "outputs": [],
     "prompt_number": 11
    },
    {
     "cell_type": "code",
     "collapsed": false,
     "input": [
      "ax = plt.gca()\n",
      "lines = ax.plot(t1_times, t1_vals, '.', t2_times,t2_vals, '.',t3_times,t3_vals, '.',lux_times,li, '.')\n",
      "ax.legend((lines[0], lines[1], lines[2], lines[3]), ('near top', 'near ground', 'outside', 'light level'))\n",
      "ax.xaxis.get_major_formatter()\n",
      "ax.xaxis.get_major_ticks()\n",
      "ax.xaxis.get_major_locator()\n",
      "ax.xaxis_date() #worked fine without this for a while ...\n",
      "ax.xaxis.set_major_formatter(DateFormatter('%H'))\n",
      "ax.set_title('Temperatures and light level')\n",
      "ax.set_xlabel('hours from start')\n",
      "ax.set_ylabel('Degrees C')\n",
      "ax.set_title('Temperatures and light level')\n",
      "plt.text(0,0, \"something\")\n",
      "plt.text(0, 0.95,'    Tented citrus trees with xmas lights on', horizontalalignment='left', verticalalignment='top', transform = ax.transAxes)\n",
      "#plt.draw()\n",
      "plt.show()"
     ],
     "language": "python",
     "metadata": {},
     "outputs": [],
     "prompt_number": 7
    },
    {
     "cell_type": "code",
     "collapsed": false,
     "input": [
      "len(lines)"
     ],
     "language": "python",
     "metadata": {},
     "outputs": [
      {
       "metadata": {},
       "output_type": "pyout",
       "prompt_number": 35,
       "text": [
        "4"
       ]
      }
     ],
     "prompt_number": 35
    },
    {
     "cell_type": "code",
     "collapsed": false,
     "input": [
      "plt.show()"
     ],
     "language": "python",
     "metadata": {},
     "outputs": [],
     "prompt_number": 49
    },
    {
     "cell_type": "code",
     "collapsed": false,
     "input": [
      "lines = ax.plot(t1_times, t1_vals, '.', t2_times,t2_vals, '.',t3_times,t3_vals, '.',lux_times,li, '.')\n",
      "print lines"
     ],
     "language": "python",
     "metadata": {},
     "outputs": [
      {
       "output_type": "stream",
       "stream": "stdout",
       "text": [
        "[<matplotlib.lines.Line2D object at 0x7f6f477845d0>, <matplotlib.lines.Line2D object at 0x7f6f4880ffd0>, <matplotlib.lines.Line2D object at 0x7f6f47748d50>, <matplotlib.lines.Line2D object at 0x7f6f485c8310>]\n"
       ]
      }
     ],
     "prompt_number": 7
    },
    {
     "cell_type": "code",
     "collapsed": false,
     "input": [
      "lines[0].set_color('black') #this works\n",
      "draw()"
     ],
     "language": "python",
     "metadata": {},
     "outputs": [
      {
       "ename": "NameError",
       "evalue": "name 'draw' is not defined",
       "output_type": "pyerr",
       "traceback": [
        "\u001b[1;31m---------------------------------------------------------------------------\u001b[0m\n\u001b[1;31mNameError\u001b[0m                                 Traceback (most recent call last)",
        "\u001b[1;32m<ipython-input-9-6d811eda818c>\u001b[0m in \u001b[0;36m<module>\u001b[1;34m()\u001b[0m\n\u001b[0;32m      1\u001b[0m \u001b[0mlines\u001b[0m\u001b[1;33m[\u001b[0m\u001b[1;36m0\u001b[0m\u001b[1;33m]\u001b[0m\u001b[1;33m.\u001b[0m\u001b[0mset_color\u001b[0m\u001b[1;33m(\u001b[0m\u001b[1;34m'black'\u001b[0m\u001b[1;33m)\u001b[0m \u001b[1;31m#this works\u001b[0m\u001b[1;33m\u001b[0m\u001b[0m\n\u001b[1;32m----> 2\u001b[1;33m \u001b[0mdraw\u001b[0m\u001b[1;33m(\u001b[0m\u001b[1;33m)\u001b[0m\u001b[1;33m\u001b[0m\u001b[0m\n\u001b[0m",
        "\u001b[1;31mNameError\u001b[0m: name 'draw' is not defined"
       ]
      }
     ],
     "prompt_number": 9
    },
    {
     "cell_type": "code",
     "collapsed": false,
     "input": [],
     "language": "python",
     "metadata": {},
     "outputs": []
    },
    {
     "cell_type": "code",
     "collapsed": false,
     "input": [
      "ax.text(0,0, \"some text\")\n",
      "plt.show()"
     ],
     "language": "python",
     "metadata": {},
     "outputs": [],
     "prompt_number": 23
    },
    {
     "cell_type": "code",
     "collapsed": false,
     "input": [
      "#ax.set_label('a label')\n",
      "#ax.legend()\n",
      "\n",
      "#text(0,0, \"some text\")\n",
      "#plt.show()\n",
      "lines = ax.get_lines()\n",
      "line[0[]]"
     ],
     "language": "python",
     "metadata": {},
     "outputs": [
      {
       "ename": "SyntaxError",
       "evalue": "invalid syntax (<ipython-input-27-6d3d2c9b6b7b>, line 7)",
       "output_type": "pyerr",
       "traceback": [
        "\u001b[1;36m  File \u001b[1;32m\"<ipython-input-27-6d3d2c9b6b7b>\"\u001b[1;36m, line \u001b[1;32m7\u001b[0m\n\u001b[1;33m    line.\u001b[0m\n\u001b[1;37m         ^\u001b[0m\n\u001b[1;31mSyntaxError\u001b[0m\u001b[1;31m:\u001b[0m invalid syntax\n"
       ]
      }
     ],
     "prompt_number": 27
    },
    {
     "cell_type": "code",
     "collapsed": false,
     "input": [
      "plt.isinteractive()"
     ],
     "language": "python",
     "metadata": {},
     "outputs": [
      {
       "metadata": {},
       "output_type": "pyout",
       "prompt_number": 4,
       "text": [
        "False"
       ]
      }
     ],
     "prompt_number": 4
    },
    {
     "cell_type": "code",
     "collapsed": false,
     "input": [
      "plt.ion()"
     ],
     "language": "python",
     "metadata": {},
     "outputs": [],
     "prompt_number": 4
    },
    {
     "cell_type": "code",
     "collapsed": false,
     "input": [],
     "language": "python",
     "metadata": {},
     "outputs": []
    }
   ],
   "metadata": {}
  }
 ]
}