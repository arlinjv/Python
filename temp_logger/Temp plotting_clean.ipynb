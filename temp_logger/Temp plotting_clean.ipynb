{
 "metadata": {
  "name": "",
  "signature": "sha256:5aad02d97a46391741151694c60b33e65dc499da4618b0ef21d42f64f184a8b3"
 },
 "nbformat": 3,
 "nbformat_minor": 0,
 "worksheets": [
  {
   "cells": [
    {
     "cell_type": "raw",
     "metadata": {},
     "source": [
      "To get data remotely open two terminals:\n",
      "- First terminal:\n",
      "    $ ssh compaq\n",
      "    $ cd scripts/python/xbee\n",
      "    $ sqlite3 xbee.db\n",
      "    sqlite> select count(*) from devices_log;\n",
      "    388\n",
      "    sqlite> .headers off\n",
      "    sqlite> .mode list\n",
      "    sqlite> .output citrus3.lst\n",
      "    sqlite> select device_id, last_val, time_stamp from devices_log;\n",
      "- Next terminal:\n",
      "     $ sftp compaq\n",
      "    sftp> cd scripts/python/xbee\n",
      "    sftp> lcd python\n",
      "    sftp> get citrus3.lst"
     ]
    },
    {
     "cell_type": "code",
     "collapsed": false,
     "input": [
      "#importing explicitly rather than calling %pylab\n",
      "import numpy as np \n",
      "import matplotlib.pyplot as plt\n",
      "from matplotlib.dates import strpdate2num, DateFormatter\n",
      "import datetime\n",
      "\n",
      "\n",
      "# not sure if this does anything since i'm not selecting inline\n",
      "#%matplotlib inline\n",
      "\n",
      "print np\n",
      "print plt"
     ],
     "language": "python",
     "metadata": {},
     "outputs": [
      {
       "output_type": "stream",
       "stream": "stdout",
       "text": [
        "<module 'numpy' from '/home/arlin/anaconda/lib/python2.7/site-packages/numpy/__init__.pyc'>\n",
        "<module 'matplotlib.pyplot' from '/home/arlin/anaconda/lib/python2.7/site-packages/matplotlib/pyplot.pyc'>\n"
       ]
      }
     ],
     "prompt_number": 1
    },
    {
     "cell_type": "code",
     "collapsed": false,
     "input": [
      "%cd ~/python\n",
      "\n",
      "data_file = 'citrus5.lst'\n",
      "with open(data_file, 'r') as f:\n",
      "  first_line = f.readline()\n",
      "    \n",
      "date = first_line.split('|')[-1][:10] #split line, then take last element and use only first ten characters\n",
      "\n",
      "format = '%Y-%m-%d %H:%M:%S'\n",
      "dt = np.dtype([('id',np.str_,8), ('val',np.float),('time',np.str_,19)])\n",
      "data = np.genfromtxt(data_file, delimiter = '|', dtype=dt, converters={2:strpdate2num(format)})\n",
      "t1 = data[np.where(data['id']=='thermo1')]\n",
      "t1_times = t1['time']\n",
      "t1_vals = t1['val']\n",
      "t2 = data[np.where(data['id']=='thermo2')]\n",
      "t2_vals = t2['val']\n",
      "t2_times = t2['time']\n",
      "t3 = data[np.where(data['id']=='thermo3')]\n",
      "t3_vals = t3['val']\n",
      "t3_times = t3['time']\n",
      "lux = data[np.where(data['id']=='lux')]\n",
      "lux_times = lux['time']\n",
      "lux_vals = lux['val']\n",
      "# add code here to find max and min temps then plug into second parameter in interp\n",
      "li = np.interp(lux_vals,[0,1023],[0,20]) #interpolated lux vals. np. not needed with pylab\n"
     ],
     "language": "python",
     "metadata": {},
     "outputs": [
      {
       "output_type": "stream",
       "stream": "stdout",
       "text": [
        "/home/arlin/python\n"
       ]
      }
     ],
     "prompt_number": 3
    },
    {
     "cell_type": "code",
     "collapsed": false,
     "input": [
      "ax = plt.gca() #plt. not needed with pylab\n",
      "\n",
      "ax.set_color_cycle(None) #sets to default cycle (otherwise black and other weird colors get in sometimes)\n",
      "\n",
      "lines = ax.plot(t1_times, t1_vals, '.', t2_times,t2_vals, '.',t3_times,t3_vals, '.',lux_times,li, '.')\n",
      "\n",
      "ax.legend((lines[0], lines[1], lines[2], lines[3]), ('ambient', 'lower tree', 'upper tree', 'light level'))\n",
      "\n",
      "ax.xaxis.get_major_formatter()\n",
      "ax.xaxis.get_major_ticks()\n",
      "ax.xaxis.get_major_locator()\n",
      "ax.xaxis_date() #didn't seem to need this before ...\n",
      "ax.xaxis.set_major_formatter(DateFormatter('%H'))\n",
      "ax.set_title('Temperatures and light level')\n",
      "ax.set_xlabel('Hours from start')\n",
      "ax.set_ylabel('Degrees C')\n",
      "ax.set_title('Temperatures and light level')\n",
      "\n",
      "\n",
      "txt = 'Start date: ' + date + '\\nSingle citrus tree and thermal mass (trash can filled with water)' + '\\nHeat provided by halogen lamp'\n",
      "plt.text(0, 0.98,txt, horizontalalignment='left', verticalalignment='top', transform = ax.transAxes)\n",
      "#ax.text works, too\n",
      "\n",
      "plt.grid(True)\n",
      "\n",
      "plt.show() "
     ],
     "language": "python",
     "metadata": {},
     "outputs": [],
     "prompt_number": 8
    },
    {
     "cell_type": "code",
     "collapsed": false,
     "input": [],
     "language": "python",
     "metadata": {},
     "outputs": []
    }
   ],
   "metadata": {}
  }
 ]
}